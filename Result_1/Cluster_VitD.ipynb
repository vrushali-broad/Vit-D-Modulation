{
 "cells": [
  {
   "cell_type": "markdown",
   "id": "manual-baker",
   "metadata": {},
   "source": [
    "#### <u> <font color=blue> Load Libraries </font>  </u>"
   ]
  },
  {
   "cell_type": "code",
   "execution_count": 33,
   "id": "chinese-possible",
   "metadata": {},
   "outputs": [],
   "source": [
    "# Let's load the packages\n",
    "import warnings\n",
    "import pandas as pd\n",
    "import numpy as np\n",
    "import seaborn as sns\n",
    "import matplotlib.pyplot as plt\n",
    "import os\n",
    "\n",
    "from sklearn.decomposition import PCA\n",
    "from sklearn.cluster import KMeans\n",
    "from sklearn.cluster import AgglomerativeClustering\n",
    "\n",
    "import scipy.stats as stats\n",
    "from scipy.stats import kde\n",
    "import statsmodels\n",
    "from sklearn import metrics\n",
    "from statsmodels.stats.multitest import multipletests\n",
    "# import natsort\n",
    "\n",
    "warnings.simplefilter('ignore')\n",
    "warnings.filterwarnings('ignore')"
   ]
  },
  {
   "cell_type": "code",
   "execution_count": 34,
   "id": "f176d36d-3e8a-4f09-b9fe-754aa1b51956",
   "metadata": {},
   "outputs": [
    {
     "data": {
      "text/plain": [
       "'0.5.3'"
      ]
     },
     "execution_count": 34,
     "metadata": {},
     "output_type": "execute_result"
    }
   ],
   "source": [
    "import sklearn\n",
    "sklearn.__version__\n",
    "\n",
    "import umap.plot\n",
    "umap.__version__"
   ]
  },
  {
   "cell_type": "markdown",
   "id": "comparative-papua",
   "metadata": {},
   "source": [
    "###### <u> <font color=blue> Set Paths </font>  </u>"
   ]
  },
  {
   "cell_type": "code",
   "execution_count": 35,
   "id": "affiliated-toddler",
   "metadata": {},
   "outputs": [],
   "source": [
    "PATH = os.path.join(os.getcwd())\n",
    "PATH_DATA = os.path.join(PATH, 'Data')\n"
   ]
  },
  {
   "cell_type": "markdown",
   "id": "developed-roommate",
   "metadata": {},
   "source": [
    "#### <u> <font color=blue> Functions </font>  </u>"
   ]
  },
  {
   "cell_type": "code",
   "execution_count": 36,
   "id": "electoral-fever",
   "metadata": {},
   "outputs": [],
   "source": [
    "def plot_reduction(df):\n",
    "    plt.figure(figsize=(5,5))\n",
    "    sns.scatterplot(\n",
    "        x=\"Component 1\", y=\"Component 2\",\n",
    "        hue=\"cluster\",\n",
    "        palette='Set1',\n",
    "        data=df,\n",
    "        marker = 'o',\n",
    "        s=70,\n",
    "        # edgecolor=None\n",
    "        edgecolor=\"grey\"\n",
    "    )\n",
    "\n",
    "    #plt.axis('off')\n",
    "    plt.legend(frameon=False)\n",
    "    #plt.savefig(\"pca_kmeans.pdf\", bbox_inches='tight')\n",
    "\n",
    "def get_pca(X):\n",
    "    pca = PCA(n_components=2, random_state=42)\n",
    "    principalComponents = pca.fit_transform(X.iloc[:, :-1])\n",
    "    PCA_components = pd.DataFrame(principalComponents)\n",
    "    df_pca = pd.DataFrame()\n",
    "    df_pca['Component 1'] = PCA_components[0]\n",
    "    df_pca['Component 2'] = PCA_components[1]\n",
    "    df_pca['cluster'] = X['labels'].values\n",
    "    return df_pca\n",
    "\n",
    "def get_umap(X):\n",
    "    import umap.plot\n",
    "    reducer = umap.UMAP(random_state=0)\n",
    "    embedding = reducer.fit_transform(X.iloc[:, :-1]) ##Select data without labels\n",
    "    df_umap = pd.DataFrame()\n",
    "    df_umap['Component 1'] = embedding[:,0]\n",
    "    df_umap['Component 2'] = embedding[:,1]\n",
    "    df_umap['cluster'] = X['labels'].values\n",
    "    mapper = umap.UMAP(random_state=42).fit(X.iloc[:, :-1])\n",
    "    return df_umap\n",
    "\n",
    "\n",
    "def kmeans(X, n_clusters):\n",
    "    ## Run Kmeans on data matrix\n",
    "    kmeans = KMeans(init=\"random\", n_clusters=n_clusters, random_state=42).fit(X)\n",
    "    clusters = kmeans.labels_\n",
    "    return clusters\n",
    "    "
   ]
  },
  {
   "cell_type": "markdown",
   "id": "unlimited-lighter",
   "metadata": {},
   "source": [
    "#### <u> <font color=blue> Load Data </font>  </u>"
   ]
  },
  {
   "cell_type": "code",
   "execution_count": 37,
   "id": "nervous-ribbon",
   "metadata": {},
   "outputs": [
    {
     "name": "stdout",
     "output_type": "stream",
     "text": [
      "(13214, 443)\n"
     ]
    }
   ],
   "source": [
    "## Normalized counts\n",
    "counts = pd.read_csv( 'Data/normalized_gene_counts.csv').set_index(['Unnamed: 0'])\n",
    "counts.columns = counts.columns.astype(int)\n",
    "print(counts.shape)\n"
   ]
  },
  {
   "cell_type": "code",
   "execution_count": 38,
   "id": "biological-subscription",
   "metadata": {},
   "outputs": [],
   "source": [
    "## Load meta data\n",
    "meta = pd.read_csv(os.path.join(PATH_DATA, 'metadata.tsv'), sep='\\t').set_index(['Unnamed: 0'])#.set_index(['vid'])\n",
    "meta = meta.loc[counts.columns.astype(int)]\n",
    "meta = meta[meta.condition.notna()]\n",
    "counts = counts[meta.index]\n"
   ]
  },
  {
   "cell_type": "code",
   "execution_count": 39,
   "id": "obvious-surrey",
   "metadata": {},
   "outputs": [
    {
     "data": {
      "text/plain": [
       "((13214, 192), (192, 12))"
      ]
     },
     "execution_count": 39,
     "metadata": {},
     "output_type": "execute_result"
    }
   ],
   "source": [
    "counts.shape, meta.shape"
   ]
  },
  {
   "cell_type": "markdown",
   "id": "rapid-military",
   "metadata": {},
   "source": [
    "#### <u> <font color=blue> Clustering (PCA) </font>  </u>"
   ]
  },
  {
   "cell_type": "code",
   "execution_count": 40,
   "id": "southwest-nirvana",
   "metadata": {},
   "outputs": [
    {
     "name": "stdout",
     "output_type": "stream",
     "text": [
      "201\n"
     ]
    }
   ],
   "source": [
    "vitd_genes = ['VDR', 'VDRE', \n",
    "              ## GO\n",
    "              'CYP2R1','CYP24A1', 'CYP27A1', 'CYP27B1', 'ENPP1', 'FGF23','FGFR1', 'FGFR4','GC','GFI1','IFNG','LRP2','NFKB1','SNAI1','SNAI2','TNF', \n",
    "              ## WikiPathways\n",
    "              'ABCB1', 'ABCA11', 'ABCD1', 'ADAMTS5', 'ADGRE5', 'ADRA1B', 'ADRB2', 'ALOX5', 'ALPG', 'ALPI',\n",
    "              'ASAP2', 'ATP2B1', 'ATP2C2', 'BCL6', 'BDKRB1', 'BGLAP', 'BMP6', 'BTLA', 'CA9', 'CALB1', 'CAMP',\n",
    "              'CASP14', 'CASP5', 'CBS', 'CCNC', 'CCND1', 'CCNE1', 'CD14', 'CD200', 'CD40', 'CD9', 'CDC34', 'CDK2',\n",
    "              'CDKAL1', 'CDKN1A', 'CDKN1B', 'CDKN2A', 'CDKN2B', 'CDKN2C', 'CDKN2D', 'CDX2', 'CEACAM1', 'CEBPA',\n",
    "              'CLDN2', 'CLEC16A', 'CLMN', 'CLPTM1L', 'COLEC11', 'CRACR2A', 'CRACR2B', 'CREG2', 'CST1', 'CST6', \n",
    "              'CTLA4', 'CYP1A1', 'CYP24A1', 'CYP27B1', 'CYP2B6', 'CYP2C9', 'CYP2D6', 'CYP2S1', 'CYP3A4', 'CYP3A5',\n",
    "              'CYP7A1', 'COL13A1', 'DACT2', 'DEFB109C', 'DEFB132', 'DEFB4A', 'DND1', 'DNER', 'DUSP10', 'EFNA5',\n",
    "              'EPHB4', 'FGF23', 'FOXO1', 'G0S2', 'G6PD', 'GADD45A', 'GXYLT2', 'HIF1A', 'HILPDA', 'HLA-DQA1', 'HLA-DRB1',\n",
    "              'HNF1A', 'HSD17B2', 'ID1', 'ID4', 'IGFBP1', 'IGFBP3', 'IGFBP5', 'IGSF9B', 'IL12A', 'IL1RL1', 'IL25', 'IRF4',\n",
    "              'IRF5', 'IRF8', 'ITGAM', 'JUNB', 'KL', 'KLF4', 'KLK6', 'KNG1', 'KRT13', 'KRT16', 'KRT34', 'KRT38', 'KRT71',\n",
    "              'KRTAP10-2', 'KRTAP10-4', 'KRTAP10-7', 'KRTAP10-9', 'KRTAP12-2', 'KRTAP4-1', 'KRTAP5-1', 'KRTAP5-4', 'KRTAP8-1',\n",
    "              'LCE1D', 'LCE1F', 'LCE2B', 'LGALS9', 'LPGAT1', 'LRP5', 'LRRC25', 'LRRC8A', 'Ligand', 'MED9', 'MEG8', 'MX2', \n",
    "              'MXD1', 'MYC', 'MYO9B', 'NFATC2', 'NINJ1', 'NOX1', 'NRIP1', 'ORM1', 'ORM2', 'PNOC', 'PPARD', 'PRDM1', 'PRKCQ',\n",
    "              'PTGER4', 'PTH', 'PTHLH', 'RASGRP1', 'RXRA', 'S100A2', 'S100A4', 'S100A6', 'S100A8', 'S100A9', 'S100G', 'SALL4',\n",
    "              'SATB1', 'SEMA3B', 'SERPINB1', 'SFRP1', 'SLC2A4', 'SLC34A2', 'SLC37A2', 'SLC8A1', 'SOSTDC1', 'SPP1', 'SPRR1B', 'STAM', \n",
    "              'STEAP4', 'STS', 'SULT1C2', 'SULT2A1', 'TGFB1', 'TGFB2', 'THBD', 'TIMP2', 'TIMP3', 'TNFAIP3', 'TNFRSF11B', 'TNFSF11',\n",
    "              'TNFSF4', 'TPM1', 'TRAK1', 'TREM1', 'TRPV5', 'TRPV6','VDR', 'ZNF257']\n",
    "\n",
    "print(len(set(vitd_genes)))\n",
    "annot = pd.read_csv(os.path.join(PATH_DATA, 'Annotations.tsv'),sep='\\t')\n",
    "goi = annot[annot.hgnc_symbol.isin(vitd_genes)]\n",
    "\n",
    "data = counts.loc[list(set(counts.index) & set(goi.ensembl_gene_id))]\n"
   ]
  },
  {
   "cell_type": "code",
   "execution_count": 41,
   "id": "architectural-lunch",
   "metadata": {},
   "outputs": [],
   "source": [
    "data = data.T\n",
    "frame = pd.DataFrame(data)\n",
    "num_clusters = 2\n",
    "labels = kmeans(data, n_clusters = num_clusters)\n",
    "frame['labels'] = labels\n",
    "\n",
    "# df_pca = get_umap(frame)\n",
    "# plot_reduction(df_pca)\n",
    "\n"
   ]
  },
  {
   "cell_type": "code",
   "execution_count": 42,
   "id": "assumed-measurement",
   "metadata": {},
   "outputs": [
    {
     "data": {
      "image/png": "[encoded data removed]",
      "text/plain": [
       "<Figure size 500x500 with 1 Axes>"
      ]
     },
     "metadata": {},
     "output_type": "display_data"
    },
    {
     "data": {
      "image/png": "[encoded data removed]",
      "text/plain": [
       "<Figure size 200x300 with 1 Axes>"
      ]
     },
     "metadata": {},
     "output_type": "display_data"
    },
    {
     "data": {
      "image/png": "[encoded data removed]",
      "text/plain": [
       "<Figure size 500x500 with 1 Axes>"
      ]
     },
     "metadata": {},
     "output_type": "display_data"
    },
    {
     "data": {
      "image/png": "[encoded data removed]",
      "text/plain": [
       "<Figure size 200x300 with 1 Axes>"
      ]
     },
     "metadata": {},
     "output_type": "display_data"
    }
   ],
   "source": [
    "from matplotlib.lines import Line2D\n",
    "def plot_reduction(df, filename, sizes = False):\n",
    "    palette = [\"#de8080\",#\"#ca8f80\",\n",
    "               '#7cb5b0']\n",
    "    kwargs  =  {'edgecolor':\"#838383\",'linewidth':1} ##929292\n",
    "    plt.figure(figsize=(5,5))\n",
    "    ax = plt.gca()\n",
    "    \n",
    "    # Plot the scatterplot\n",
    "    plot = sns.scatterplot(\n",
    "        x=\"Component 1\", y=\"Component 2\",\n",
    "        hue=\"cluster\",\n",
    "        style=\"condition\",\n",
    "        palette=palette,\n",
    "        data=df,\n",
    "        markers=['o', 's'], # Assign different shapes\n",
    "        s=sizes if sizes else 70,\n",
    "        **kwargs\n",
    "    )\n",
    "    \n",
    "    plt.legend(frameon=False)\n",
    "    plt.axis('off')\n",
    "    plt.legend('',frameon=False)\n",
    "    plt.savefig(filename, bbox_inches='tight')\n",
    "    \n",
    "    # Retrieve handles and labels for the legend\n",
    "    handles, labels = ax.get_legend_handles_labels()\n",
    "    \n",
    "    # Define new labels for your legend\n",
    "    new_labels = ['Cluster 1', 'Cluster 2', 'Low Vit-D', 'High Vit-D']\n",
    "    custom_markers = ['8', '8', 'o', 's'] \n",
    "    \n",
    "    # Assuming that your colors for clusters and conditions are palette[0] and palette[1]\n",
    "    cluster_colors = [palette[0], palette[1]]\n",
    "    condition_colors = ['#838383', '#838383']  # Define colors for Low and High Vit-D\n",
    "    \n",
    "    # Create custom handles for the legend\n",
    "    new_handles = [\n",
    "        Line2D([], [], marker=custom_markers[0], color='w', markerfacecolor=cluster_colors[0], markersize=8),\n",
    "        Line2D([], [], marker=custom_markers[1], color='w', markerfacecolor=cluster_colors[1], markersize=8),\n",
    "        Line2D([], [], marker=custom_markers[2], color='w', markerfacecolor=condition_colors[0], markersize=8),\n",
    "        Line2D([], [], marker=custom_markers[3], color='w', markerfacecolor=condition_colors[1], markersize=8)\n",
    "    ]\n",
    "    \n",
    "\n",
    "    # Create a new figure for the legend\n",
    "    legend_fig = plt.figure(figsize=(2, 3))\n",
    "    legend_ax = legend_fig.add_subplot(111)\n",
    "    \n",
    "    # Create the legend with the custom labels and without the frame\n",
    "    legend_ax.legend(new_handles, new_labels, loc='center', frameon=False, handletextpad=0.1)\n",
    "    legend_ax.axis('off')\n",
    "    \n",
    "    # Save the legend as a separate figure\n",
    "    legend_fig.savefig('Figures/custom_legend.pdf', bbox_inches='tight', pad_inches=0)\n",
    "    \n",
    "    plt.show()\n",
    "    # Close the figures to avoid display issues\n",
    "    plt.close('all')\n",
    "\n",
    "    \n",
    "def get_umap(X):\n",
    "    import umap.plot\n",
    "    reducer = umap.UMAP(random_state = 0) #3#13)#113\n",
    "    embedding = reducer.fit_transform(X.iloc[:, :-1]) ##Select data without labels\n",
    "    df_umap = pd.DataFrame()\n",
    "    df_umap['Component 1'] = embedding[:,0]\n",
    "    df_umap['Component 2'] = embedding[:,1]\n",
    "    df_umap['cluster'] = X['labels'].values\n",
    "    df_umap['condition'] = X['condition'].values\n",
    "    mapper = umap.UMAP(random_state=42).fit(X.iloc[:, :-2])\n",
    "    return df_umap\n",
    "\n",
    "frame['condition'] = meta.loc[frame.index,'condition']\n",
    "df_pca = get_umap(frame)\n",
    "plot_reduction(df_pca, filename = 'Figures/umap1.pdf')\n",
    "\n",
    "frame['condition'] = meta.loc[frame.index,'condition']\n",
    "frame['sizes'] = np.logical_xor(frame['condition'], frame['labels']).astype(int)\n",
    "df_pca = get_umap(frame)\n",
    "plot_reduction(df_pca,filename = 'Figures/umap2.pdf', sizes = list(frame['sizes'].values*70) )\n",
    "\n"
   ]
  },
  {
   "cell_type": "code",
   "execution_count": 43,
   "id": "adjusted-queen",
   "metadata": {},
   "outputs": [
    {
     "data": {
      "text/plain": [
       "192"
      ]
     },
     "execution_count": 43,
     "metadata": {},
     "output_type": "execute_result"
    }
   ],
   "source": [
    "len(labels)"
   ]
  },
  {
   "cell_type": "code",
   "execution_count": 44,
   "id": "guilty-laptop",
   "metadata": {},
   "outputs": [
    {
     "name": "stdout",
     "output_type": "stream",
     "text": [
      "Cluster 0 : 68\n",
      "Mean Vit. D:  23.83970588235294\n",
      "1.0    35\n",
      "0.0    33\n",
      "Name: condition, dtype: int64\n",
      "0 33 9.821212121212122 2.0 24.0\n",
      "1 35 37.05714285714286 25.0 68.0\n",
      "****************************************************\n",
      "Cluster 1 : 124\n",
      "Mean Vit. D:  23.50483870967742\n",
      "1.0    62\n",
      "0.0    62\n",
      "Name: condition, dtype: int64\n",
      "0 62 11.929032258064517 2.0 24.0\n",
      "1 62 35.08064516129032 25.0 58.0\n",
      "****************************************************\n"
     ]
    }
   ],
   "source": [
    "new_meta = pd.DataFrame(meta)\n",
    "#new_meta = meta.fillna(meta.mean())\n",
    "new_meta['clusters'] = labels\n",
    "\n",
    "for i in range(num_clusters):\n",
    "    df = new_meta[new_meta['clusters']==i]\n",
    "    print('Cluster', i,':',df.shape[0])\n",
    "    print('Mean Vit. D: ', df.mayocbloodvitd.mean())\n",
    "    print(df.condition.value_counts()) ##[['trmt','anyAsthma','condition','pseudoEvent']]\n",
    "    print(0, df[df.condition == 0].shape[0], df[df.condition == 0].mayocbloodvitd.mean(),df[df.condition == 0].mayocbloodvitd.min(), df[df.condition == 0].mayocbloodvitd.max())\n",
    "    print(1, df[df.condition == 1].shape[0], df[df.condition == 1].mayocbloodvitd.mean(), df[df.condition == 1].mayocbloodvitd.min(), df[df.condition == 1].mayocbloodvitd.max())\n",
    "    print('****************************************************')\n",
    "\n",
    "    "
   ]
  },
  {
   "cell_type": "markdown",
   "id": "accomplished-smith",
   "metadata": {},
   "source": [
    "<font color=red> Cluster 0 and cluster 3 contain majority of patients with maximum difference in mean vitamin D. The difference in mean arises from maximum patients belonging to low (<15) vit. D or high (>15) vit. D </font> "
   ]
  },
  {
   "cell_type": "code",
   "execution_count": 45,
   "id": "geographic-hello",
   "metadata": {},
   "outputs": [
    {
     "name": "stdout",
     "output_type": "stream",
     "text": [
      "Patients with low Vit. D in Cluster 0:  35\n",
      "Patients with high Vit. D in Cluster 1:  62\n"
     ]
    }
   ],
   "source": [
    "### Cluster 0 stats\n",
    "print('Patients with low Vit. D in Cluster 0: ', new_meta[new_meta['clusters']==0].condition.value_counts()[1])\n",
    "\n",
    "### Cluster 3 stats\n",
    "print('Patients with high Vit. D in Cluster 1: ', new_meta[new_meta['clusters']==1].condition.value_counts()[0])\n",
    "\n"
   ]
  },
  {
   "cell_type": "code",
   "execution_count": 46,
   "id": "superb-adaptation",
   "metadata": {},
   "outputs": [
    {
     "name": "stdout",
     "output_type": "stream",
     "text": [
      "35 62\n"
     ]
    }
   ],
   "source": [
    "group1 = new_meta[(new_meta['clusters']==0) & (new_meta.condition == 1)].index\n",
    "group2 = new_meta[(new_meta['clusters']==1) & (new_meta.condition == 0)].index\n",
    "print(len(group1), len(group2))\n",
    "patient_ids = list(group1) + list(group2) \n",
    "meta_subset = meta.loc[patient_ids]\n",
    "meta_subset.condition = np.nan\n",
    "meta_subset.loc[list(group1),'condition'] = 'High'\n",
    "meta_subset.loc[list(group2),'condition'] = 'Low'\n",
    "meta_subset = meta_subset[meta_subset.condition.notna()]\n",
    "\n",
    "meta_subset.to_csv( os.path.join(PATH_DATA,'meta_subset.tsv'),sep='\\t')"
   ]
  },
  {
   "cell_type": "code",
   "execution_count": 47,
   "id": "8d54e4e1-20cb-4887-be95-cd249163df88",
   "metadata": {},
   "outputs": [
    {
     "data": {
      "text/plain": [
       "(97, 13)"
      ]
     },
     "execution_count": 47,
     "metadata": {},
     "output_type": "execute_result"
    }
   ],
   "source": [
    "meta_subset.shape"
   ]
  },
  {
   "cell_type": "markdown",
   "id": "spread-stations",
   "metadata": {},
   "source": [
    "### Only these two clusters have differential expression of VDR. Thus, we pick them for downstream analysis."
   ]
  },
  {
   "cell_type": "code",
   "execution_count": 48,
   "id": "c132b03a-ebe6-401a-80ad-9e528641d97f",
   "metadata": {},
   "outputs": [
    {
     "data": {
      "text/plain": [
       "Low     62\n",
       "High    35\n",
       "Name: condition, dtype: int64"
      ]
     },
     "execution_count": 48,
     "metadata": {},
     "output_type": "execute_result"
    }
   ],
   "source": [
    "meta_subset.condition.value_counts()"
   ]
  }
 ],
 "metadata": {
  "kernelspec": {
   "display_name": "MyTestEnv",
   "language": "python",
   "name": "myenv"
  },
  "language_info": {
   "codemirror_mode": {
    "name": "ipython",
    "version": 3
   },
   "file_extension": ".py",
   "mimetype": "text/x-python",
   "name": "python",
   "nbconvert_exporter": "python",
   "pygments_lexer": "ipython3",
   "version": "3.7.6"
  }
 },
 "nbformat": 4,
 "nbformat_minor": 5
}
