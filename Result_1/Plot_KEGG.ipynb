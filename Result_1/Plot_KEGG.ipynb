{
 "cells": [
  {
   "cell_type": "code",
   "execution_count": 3,
   "id": "56262d78-a776-4419-9848-3146ede14a06",
   "metadata": {},
   "outputs": [],
   "source": [
    "## https://www.r-bloggers.com/2015/12/tutorial-rna-seq-differential-expression-pathway-analysis-with-sailfish-deseq2-gage-and-pathview/\n",
    "library(\"AnnotationDbi\")\n",
    "library(\"org.Hs.eg.db\")\n",
    "library(\"enrichplot\")\n",
    "library(\"clusterProfiler\")"
   ]
  },
  {
   "cell_type": "markdown",
   "id": "1e4a20da-a9a9-4e07-8ace-ed0b1e57fd6a",
   "metadata": {},
   "source": [
    "> ## VDAART"
   ]
  },
  {
   "cell_type": "code",
   "execution_count": 4,
   "id": "5ec118a5-0a63-4187-90e8-906ca3419451",
   "metadata": {},
   "outputs": [],
   "source": [
    "## Load DE genes from VDAART\n",
    "res <- read.csv('Supplementary/Tab_S2.csv', row.names = 1 ) "
   ]
  },
  {
   "cell_type": "markdown",
   "id": "15f4866b-ba45-417e-b741-f9f3df8714a6",
   "metadata": {},
   "source": [
    "> Only works with R-KEGG"
   ]
  },
  {
   "cell_type": "code",
   "execution_count": 5,
   "id": "24a7047d-9d41-4a5a-b50b-b06acb74842b",
   "metadata": {},
   "outputs": [
    {
     "name": "stderr",
     "output_type": "stream",
     "text": [
      "Reading KEGG annotation online: \"https://rest.kegg.jp/link/hsa/pathway\"...\n",
      "\n",
      "Reading KEGG annotation online: \"https://rest.kegg.jp/list/pathway/hsa\"...\n",
      "\n",
      "Warning message in xtfrm.data.frame(x):\n",
      "“cannot xtfrm data frames”\n"
     ]
    },
    {
     "data": {
      "text/html": [
       "<style>\n",
       ".list-inline {list-style: none; margin:0; padding: 0}\n",
       ".list-inline>li {display: inline-block}\n",
       ".list-inline>li:not(:last-child)::after {content: \"\\00b7\"; padding: 0 .5ex}\n",
       "</style>\n",
       "<ol class=list-inline><li>11</li><li>11</li></ol>\n"
      ],
      "text/latex": [
       "\\begin{enumerate*}\n",
       "\\item 11\n",
       "\\item 11\n",
       "\\end{enumerate*}\n"
      ],
      "text/markdown": [
       "1. 11\n",
       "2. 11\n",
       "\n",
       "\n"
      ],
      "text/plain": [
       "[1] 11 11"
      ]
     },
     "metadata": {},
     "output_type": "display_data"
    },
    {
     "data": {
      "text/html": [
       "<table class=\"dataframe\">\n",
       "<caption>A data.frame: 11 × 11</caption>\n",
       "<thead>\n",
       "\t<tr><th></th><th scope=col>ID</th><th scope=col>Description</th><th scope=col>FE</th><th scope=col>log10adjpval</th><th scope=col>Count</th><th scope=col>geneID</th><th scope=col>pvalue</th><th scope=col>p.adjust</th><th scope=col>nGenes</th><th scope=col>-Log10FDR</th><th scope=col>Pathway</th></tr>\n",
       "\t<tr><th></th><th scope=col>&lt;chr&gt;</th><th scope=col>&lt;chr&gt;</th><th scope=col>&lt;dbl&gt;</th><th scope=col>&lt;dbl&gt;</th><th scope=col>&lt;int&gt;</th><th scope=col>&lt;chr&gt;</th><th scope=col>&lt;dbl&gt;</th><th scope=col>&lt;dbl&gt;</th><th scope=col>&lt;int&gt;</th><th scope=col>&lt;dbl&gt;</th><th scope=col>&lt;fct&gt;</th></tr>\n",
       "</thead>\n",
       "<tbody>\n",
       "\t<tr><th scope=row>hsa05202</th><td>hsa05202</td><td>Transcriptional misregulation in cancer </td><td>2.286921</td><td>1.340618</td><td>16</td><td>PBX1/ITGAM/SPI1/GADD45B/BCL6/BCL2A1/CEBPA/CD86/FLT3/CEBPB/CEBPE/PTCRA/FCGR1A/MMP9/CD14/IL1R2                                           </td><td>1.701974e-03</td><td>4.564385e-02</td><td>16</td><td>1.340618</td><td>Transcriptional misregulation in cancer </td></tr>\n",
       "\t<tr><th scope=row>hsa04613</th><td>hsa04613</td><td>Neutrophil extracellular trap formation </td><td>2.455297</td><td>1.564758</td><td>17</td><td>ITGAM/MAPK14/NCF1/FCGR2A/NCF2/NCF4/TLR2/PADI4/FPR2/CAMP/AZU1/TLR8/AQP9/FPR1/TLR4/FCGR3B/FCGR1A                                         </td><td>5.541448e-04</td><td>2.724221e-02</td><td>17</td><td>1.564758</td><td>Neutrophil extracellular trap formation </td></tr>\n",
       "\t<tr><th scope=row>hsa04145</th><td>hsa04145</td><td>Phagosome                               </td><td>2.540815</td><td>1.402150</td><td>14</td><td>ITGAM/NCF1/FCGR2A/THBS1/CTSS/OLR1/NCF2/NCF4/TLR2/FCAR/TLR4/FCGR3B/FCGR1A/CD14                                                          </td><td>1.208568e-03</td><td>3.961416e-02</td><td>14</td><td>1.402150</td><td>Phagosome                               </td></tr>\n",
       "\t<tr><th scope=row>hsa05152</th><td>hsa05152</td><td>Tuberculosis                            </td><td>2.758599</td><td>2.060333</td><td>18</td><td>ITGAM/TLR1/VDR/NOD2/MAPK14/IFNGR2/IFNGR1/FCGR2A/CTSS/CEBPB/FCER1G/TLR2/CAMP/CLEC4E/TLR4/FCGR3B/FCGR1A/CD14                             </td><td>8.850476e-05</td><td>8.702968e-03</td><td>18</td><td>2.060333</td><td>Tuberculosis                            </td></tr>\n",
       "\t<tr><th scope=row>hsa04668</th><td>hsa04668</td><td>TNF signaling pathway                   </td><td>2.903788</td><td>1.510212</td><td>12</td><td>PTGS2/FOS/CREB5/NOD2/JUNB/MAPK14/BCL3/CEBPB/JAG1/IL18R1/SOCS3/MMP9                                                                     </td><td>8.376367e-04</td><td>3.088785e-02</td><td>12</td><td>1.510212</td><td>TNF signaling pathway                   </td></tr>\n",
       "\t<tr><th scope=row>hsa04625</th><td>hsa04625</td><td>C-type lectin receptor signaling pathway</td><td>3.182999</td><td>1.670307</td><td>12</td><td>PTGS2/PRKCD/MAPK14/RRAS/PYCARD/BCL3/NLRP3/FCER1G/CLEC4E/CLEC1B/CLEC4D/CLEC6A                                                           </td><td>3.621107e-04</td><td>2.136453e-02</td><td>12</td><td>1.670307</td><td>C-type lectin receptor signaling pathway</td></tr>\n",
       "\t<tr><th scope=row>hsa00010</th><td>hsa00010</td><td>Glycolysis / Gluconeogenesis            </td><td>3.705580</td><td>1.564758</td><td> 9</td><td>BPGM/PGAM1/HK2/LDHA/GAPDH/FBP1/ALDH3B1/HK3/ALDH2                                                                                       </td><td>6.464253e-04</td><td>2.724221e-02</td><td> 9</td><td>1.564758</td><td>Glycolysis / Gluconeogenesis            </td></tr>\n",
       "\t<tr><th scope=row>hsa05134</th><td>hsa05134</td><td>Legionellosis                           </td><td>4.433462</td><td>1.921541</td><td> 9</td><td>ITGAM/HSPA1A/PYCARD/TLR5/TLR2/NAIP/TLR4/NLRC4/CD14                                                                                     </td><td>1.624413e-04</td><td>1.198005e-02</td><td> 9</td><td>1.921541</td><td>Legionellosis                           </td></tr>\n",
       "\t<tr><th scope=row>hsa04380</th><td>hsa04380</td><td>Osteoclast differentiation              </td><td>4.495494</td><td>6.126594</td><td>22</td><td>FOS/SPI1/GAB2/JUNB/MAPK14/NCF1/IFNGR2/FOSL2/IFNGR1/FCGR2A/SIRPB1/LILRA2/LILRB3/NCF2/NCF4/OSCAR/TYROBP/SOCS3/FCGR3B/FCGR1A/LILRB4/LILRA5</td><td>2.532704e-09</td><td>7.471477e-07</td><td>22</td><td>6.126594</td><td>Osteoclast differentiation              </td></tr>\n",
       "\t<tr><th scope=row>hsa00500</th><td>hsa00500</td><td>Starch and sucrose metabolism           </td><td>4.597665</td><td>1.340618</td><td> 6</td><td>HK2/GAA/MGAM/PYGL/HK3/GYG1                                                                                                             </td><td>1.679875e-03</td><td>4.564385e-02</td><td> 6</td><td>1.340618</td><td>Starch and sucrose metabolism           </td></tr>\n",
       "\t<tr><th scope=row>hsa05140</th><td>hsa05140</td><td>Leishmaniasis                           </td><td>5.015634</td><td>4.098686</td><td>14</td><td>ITGAM/PTGS2/FOS/MAPK14/NCF1/IFNGR2/IFNGR1/FCGR2A/NCF2/NCF4/TLR2/TLR4/FCGR3B/FCGR1A                                                     </td><td>5.401597e-07</td><td>7.967356e-05</td><td>14</td><td>4.098686</td><td>Leishmaniasis                           </td></tr>\n",
       "</tbody>\n",
       "</table>\n"
      ],
      "text/latex": [
       "A data.frame: 11 × 11\n",
       "\\begin{tabular}{r|lllllllllll}\n",
       "  & ID & Description & FE & log10adjpval & Count & geneID & pvalue & p.adjust & nGenes & -Log10FDR & Pathway\\\\\n",
       "  & <chr> & <chr> & <dbl> & <dbl> & <int> & <chr> & <dbl> & <dbl> & <int> & <dbl> & <fct>\\\\\n",
       "\\hline\n",
       "\thsa05202 & hsa05202 & Transcriptional misregulation in cancer  & 2.286921 & 1.340618 & 16 & PBX1/ITGAM/SPI1/GADD45B/BCL6/BCL2A1/CEBPA/CD86/FLT3/CEBPB/CEBPE/PTCRA/FCGR1A/MMP9/CD14/IL1R2                                            & 1.701974e-03 & 4.564385e-02 & 16 & 1.340618 & Transcriptional misregulation in cancer \\\\\n",
       "\thsa04613 & hsa04613 & Neutrophil extracellular trap formation  & 2.455297 & 1.564758 & 17 & ITGAM/MAPK14/NCF1/FCGR2A/NCF2/NCF4/TLR2/PADI4/FPR2/CAMP/AZU1/TLR8/AQP9/FPR1/TLR4/FCGR3B/FCGR1A                                          & 5.541448e-04 & 2.724221e-02 & 17 & 1.564758 & Neutrophil extracellular trap formation \\\\\n",
       "\thsa04145 & hsa04145 & Phagosome                                & 2.540815 & 1.402150 & 14 & ITGAM/NCF1/FCGR2A/THBS1/CTSS/OLR1/NCF2/NCF4/TLR2/FCAR/TLR4/FCGR3B/FCGR1A/CD14                                                           & 1.208568e-03 & 3.961416e-02 & 14 & 1.402150 & Phagosome                               \\\\\n",
       "\thsa05152 & hsa05152 & Tuberculosis                             & 2.758599 & 2.060333 & 18 & ITGAM/TLR1/VDR/NOD2/MAPK14/IFNGR2/IFNGR1/FCGR2A/CTSS/CEBPB/FCER1G/TLR2/CAMP/CLEC4E/TLR4/FCGR3B/FCGR1A/CD14                              & 8.850476e-05 & 8.702968e-03 & 18 & 2.060333 & Tuberculosis                            \\\\\n",
       "\thsa04668 & hsa04668 & TNF signaling pathway                    & 2.903788 & 1.510212 & 12 & PTGS2/FOS/CREB5/NOD2/JUNB/MAPK14/BCL3/CEBPB/JAG1/IL18R1/SOCS3/MMP9                                                                      & 8.376367e-04 & 3.088785e-02 & 12 & 1.510212 & TNF signaling pathway                   \\\\\n",
       "\thsa04625 & hsa04625 & C-type lectin receptor signaling pathway & 3.182999 & 1.670307 & 12 & PTGS2/PRKCD/MAPK14/RRAS/PYCARD/BCL3/NLRP3/FCER1G/CLEC4E/CLEC1B/CLEC4D/CLEC6A                                                            & 3.621107e-04 & 2.136453e-02 & 12 & 1.670307 & C-type lectin receptor signaling pathway\\\\\n",
       "\thsa00010 & hsa00010 & Glycolysis / Gluconeogenesis             & 3.705580 & 1.564758 &  9 & BPGM/PGAM1/HK2/LDHA/GAPDH/FBP1/ALDH3B1/HK3/ALDH2                                                                                        & 6.464253e-04 & 2.724221e-02 &  9 & 1.564758 & Glycolysis / Gluconeogenesis            \\\\\n",
       "\thsa05134 & hsa05134 & Legionellosis                            & 4.433462 & 1.921541 &  9 & ITGAM/HSPA1A/PYCARD/TLR5/TLR2/NAIP/TLR4/NLRC4/CD14                                                                                      & 1.624413e-04 & 1.198005e-02 &  9 & 1.921541 & Legionellosis                           \\\\\n",
       "\thsa04380 & hsa04380 & Osteoclast differentiation               & 4.495494 & 6.126594 & 22 & FOS/SPI1/GAB2/JUNB/MAPK14/NCF1/IFNGR2/FOSL2/IFNGR1/FCGR2A/SIRPB1/LILRA2/LILRB3/NCF2/NCF4/OSCAR/TYROBP/SOCS3/FCGR3B/FCGR1A/LILRB4/LILRA5 & 2.532704e-09 & 7.471477e-07 & 22 & 6.126594 & Osteoclast differentiation              \\\\\n",
       "\thsa00500 & hsa00500 & Starch and sucrose metabolism            & 4.597665 & 1.340618 &  6 & HK2/GAA/MGAM/PYGL/HK3/GYG1                                                                                                              & 1.679875e-03 & 4.564385e-02 &  6 & 1.340618 & Starch and sucrose metabolism           \\\\\n",
       "\thsa05140 & hsa05140 & Leishmaniasis                            & 5.015634 & 4.098686 & 14 & ITGAM/PTGS2/FOS/MAPK14/NCF1/IFNGR2/IFNGR1/FCGR2A/NCF2/NCF4/TLR2/TLR4/FCGR3B/FCGR1A                                                      & 5.401597e-07 & 7.967356e-05 & 14 & 4.098686 & Leishmaniasis                           \\\\\n",
       "\\end{tabular}\n"
      ],
      "text/markdown": [
       "\n",
       "A data.frame: 11 × 11\n",
       "\n",
       "| <!--/--> | ID &lt;chr&gt; | Description &lt;chr&gt; | FE &lt;dbl&gt; | log10adjpval &lt;dbl&gt; | Count &lt;int&gt; | geneID &lt;chr&gt; | pvalue &lt;dbl&gt; | p.adjust &lt;dbl&gt; | nGenes &lt;int&gt; | -Log10FDR &lt;dbl&gt; | Pathway &lt;fct&gt; |\n",
       "|---|---|---|---|---|---|---|---|---|---|---|---|\n",
       "| hsa05202 | hsa05202 | Transcriptional misregulation in cancer  | 2.286921 | 1.340618 | 16 | PBX1/ITGAM/SPI1/GADD45B/BCL6/BCL2A1/CEBPA/CD86/FLT3/CEBPB/CEBPE/PTCRA/FCGR1A/MMP9/CD14/IL1R2                                            | 1.701974e-03 | 4.564385e-02 | 16 | 1.340618 | Transcriptional misregulation in cancer  |\n",
       "| hsa04613 | hsa04613 | Neutrophil extracellular trap formation  | 2.455297 | 1.564758 | 17 | ITGAM/MAPK14/NCF1/FCGR2A/NCF2/NCF4/TLR2/PADI4/FPR2/CAMP/AZU1/TLR8/AQP9/FPR1/TLR4/FCGR3B/FCGR1A                                          | 5.541448e-04 | 2.724221e-02 | 17 | 1.564758 | Neutrophil extracellular trap formation  |\n",
       "| hsa04145 | hsa04145 | Phagosome                                | 2.540815 | 1.402150 | 14 | ITGAM/NCF1/FCGR2A/THBS1/CTSS/OLR1/NCF2/NCF4/TLR2/FCAR/TLR4/FCGR3B/FCGR1A/CD14                                                           | 1.208568e-03 | 3.961416e-02 | 14 | 1.402150 | Phagosome                                |\n",
       "| hsa05152 | hsa05152 | Tuberculosis                             | 2.758599 | 2.060333 | 18 | ITGAM/TLR1/VDR/NOD2/MAPK14/IFNGR2/IFNGR1/FCGR2A/CTSS/CEBPB/FCER1G/TLR2/CAMP/CLEC4E/TLR4/FCGR3B/FCGR1A/CD14                              | 8.850476e-05 | 8.702968e-03 | 18 | 2.060333 | Tuberculosis                             |\n",
       "| hsa04668 | hsa04668 | TNF signaling pathway                    | 2.903788 | 1.510212 | 12 | PTGS2/FOS/CREB5/NOD2/JUNB/MAPK14/BCL3/CEBPB/JAG1/IL18R1/SOCS3/MMP9                                                                      | 8.376367e-04 | 3.088785e-02 | 12 | 1.510212 | TNF signaling pathway                    |\n",
       "| hsa04625 | hsa04625 | C-type lectin receptor signaling pathway | 3.182999 | 1.670307 | 12 | PTGS2/PRKCD/MAPK14/RRAS/PYCARD/BCL3/NLRP3/FCER1G/CLEC4E/CLEC1B/CLEC4D/CLEC6A                                                            | 3.621107e-04 | 2.136453e-02 | 12 | 1.670307 | C-type lectin receptor signaling pathway |\n",
       "| hsa00010 | hsa00010 | Glycolysis / Gluconeogenesis             | 3.705580 | 1.564758 |  9 | BPGM/PGAM1/HK2/LDHA/GAPDH/FBP1/ALDH3B1/HK3/ALDH2                                                                                        | 6.464253e-04 | 2.724221e-02 |  9 | 1.564758 | Glycolysis / Gluconeogenesis             |\n",
       "| hsa05134 | hsa05134 | Legionellosis                            | 4.433462 | 1.921541 |  9 | ITGAM/HSPA1A/PYCARD/TLR5/TLR2/NAIP/TLR4/NLRC4/CD14                                                                                      | 1.624413e-04 | 1.198005e-02 |  9 | 1.921541 | Legionellosis                            |\n",
       "| hsa04380 | hsa04380 | Osteoclast differentiation               | 4.495494 | 6.126594 | 22 | FOS/SPI1/GAB2/JUNB/MAPK14/NCF1/IFNGR2/FOSL2/IFNGR1/FCGR2A/SIRPB1/LILRA2/LILRB3/NCF2/NCF4/OSCAR/TYROBP/SOCS3/FCGR3B/FCGR1A/LILRB4/LILRA5 | 2.532704e-09 | 7.471477e-07 | 22 | 6.126594 | Osteoclast differentiation               |\n",
       "| hsa00500 | hsa00500 | Starch and sucrose metabolism            | 4.597665 | 1.340618 |  6 | HK2/GAA/MGAM/PYGL/HK3/GYG1                                                                                                              | 1.679875e-03 | 4.564385e-02 |  6 | 1.340618 | Starch and sucrose metabolism            |\n",
       "| hsa05140 | hsa05140 | Leishmaniasis                            | 5.015634 | 4.098686 | 14 | ITGAM/PTGS2/FOS/MAPK14/NCF1/IFNGR2/IFNGR1/FCGR2A/NCF2/NCF4/TLR2/TLR4/FCGR3B/FCGR1A                                                      | 5.401597e-07 | 7.967356e-05 | 14 | 4.098686 | Leishmaniasis                            |\n",
       "\n"
      ],
      "text/plain": [
       "         ID       Description                              FE      \n",
       "hsa05202 hsa05202 Transcriptional misregulation in cancer  2.286921\n",
       "hsa04613 hsa04613 Neutrophil extracellular trap formation  2.455297\n",
       "hsa04145 hsa04145 Phagosome                                2.540815\n",
       "hsa05152 hsa05152 Tuberculosis                             2.758599\n",
       "hsa04668 hsa04668 TNF signaling pathway                    2.903788\n",
       "hsa04625 hsa04625 C-type lectin receptor signaling pathway 3.182999\n",
       "hsa00010 hsa00010 Glycolysis / Gluconeogenesis             3.705580\n",
       "hsa05134 hsa05134 Legionellosis                            4.433462\n",
       "hsa04380 hsa04380 Osteoclast differentiation               4.495494\n",
       "hsa00500 hsa00500 Starch and sucrose metabolism            4.597665\n",
       "hsa05140 hsa05140 Leishmaniasis                            5.015634\n",
       "         log10adjpval Count\n",
       "hsa05202 1.340618     16   \n",
       "hsa04613 1.564758     17   \n",
       "hsa04145 1.402150     14   \n",
       "hsa05152 2.060333     18   \n",
       "hsa04668 1.510212     12   \n",
       "hsa04625 1.670307     12   \n",
       "hsa00010 1.564758      9   \n",
       "hsa05134 1.921541      9   \n",
       "hsa04380 6.126594     22   \n",
       "hsa00500 1.340618      6   \n",
       "hsa05140 4.098686     14   \n",
       "         geneID                                                                                                                                 \n",
       "hsa05202 PBX1/ITGAM/SPI1/GADD45B/BCL6/BCL2A1/CEBPA/CD86/FLT3/CEBPB/CEBPE/PTCRA/FCGR1A/MMP9/CD14/IL1R2                                           \n",
       "hsa04613 ITGAM/MAPK14/NCF1/FCGR2A/NCF2/NCF4/TLR2/PADI4/FPR2/CAMP/AZU1/TLR8/AQP9/FPR1/TLR4/FCGR3B/FCGR1A                                         \n",
       "hsa04145 ITGAM/NCF1/FCGR2A/THBS1/CTSS/OLR1/NCF2/NCF4/TLR2/FCAR/TLR4/FCGR3B/FCGR1A/CD14                                                          \n",
       "hsa05152 ITGAM/TLR1/VDR/NOD2/MAPK14/IFNGR2/IFNGR1/FCGR2A/CTSS/CEBPB/FCER1G/TLR2/CAMP/CLEC4E/TLR4/FCGR3B/FCGR1A/CD14                             \n",
       "hsa04668 PTGS2/FOS/CREB5/NOD2/JUNB/MAPK14/BCL3/CEBPB/JAG1/IL18R1/SOCS3/MMP9                                                                     \n",
       "hsa04625 PTGS2/PRKCD/MAPK14/RRAS/PYCARD/BCL3/NLRP3/FCER1G/CLEC4E/CLEC1B/CLEC4D/CLEC6A                                                           \n",
       "hsa00010 BPGM/PGAM1/HK2/LDHA/GAPDH/FBP1/ALDH3B1/HK3/ALDH2                                                                                       \n",
       "hsa05134 ITGAM/HSPA1A/PYCARD/TLR5/TLR2/NAIP/TLR4/NLRC4/CD14                                                                                     \n",
       "hsa04380 FOS/SPI1/GAB2/JUNB/MAPK14/NCF1/IFNGR2/FOSL2/IFNGR1/FCGR2A/SIRPB1/LILRA2/LILRB3/NCF2/NCF4/OSCAR/TYROBP/SOCS3/FCGR3B/FCGR1A/LILRB4/LILRA5\n",
       "hsa00500 HK2/GAA/MGAM/PYGL/HK3/GYG1                                                                                                             \n",
       "hsa05140 ITGAM/PTGS2/FOS/MAPK14/NCF1/IFNGR2/IFNGR1/FCGR2A/NCF2/NCF4/TLR2/TLR4/FCGR3B/FCGR1A                                                     \n",
       "         pvalue       p.adjust     nGenes -Log10FDR\n",
       "hsa05202 1.701974e-03 4.564385e-02 16     1.340618 \n",
       "hsa04613 5.541448e-04 2.724221e-02 17     1.564758 \n",
       "hsa04145 1.208568e-03 3.961416e-02 14     1.402150 \n",
       "hsa05152 8.850476e-05 8.702968e-03 18     2.060333 \n",
       "hsa04668 8.376367e-04 3.088785e-02 12     1.510212 \n",
       "hsa04625 3.621107e-04 2.136453e-02 12     1.670307 \n",
       "hsa00010 6.464253e-04 2.724221e-02  9     1.564758 \n",
       "hsa05134 1.624413e-04 1.198005e-02  9     1.921541 \n",
       "hsa04380 2.532704e-09 7.471477e-07 22     6.126594 \n",
       "hsa00500 1.679875e-03 4.564385e-02  6     1.340618 \n",
       "hsa05140 5.401597e-07 7.967356e-05 14     4.098686 \n",
       "         Pathway                                 \n",
       "hsa05202 Transcriptional misregulation in cancer \n",
       "hsa04613 Neutrophil extracellular trap formation \n",
       "hsa04145 Phagosome                               \n",
       "hsa05152 Tuberculosis                            \n",
       "hsa04668 TNF signaling pathway                   \n",
       "hsa04625 C-type lectin receptor signaling pathway\n",
       "hsa00010 Glycolysis / Gluconeogenesis            \n",
       "hsa05134 Legionellosis                           \n",
       "hsa04380 Osteoclast differentiation              \n",
       "hsa00500 Starch and sucrose metabolism           \n",
       "hsa05140 Leishmaniasis                           "
      ]
     },
     "metadata": {},
     "output_type": "display_data"
    }
   ],
   "source": [
    "de_genes_list <-  res \n",
    "de_genes_list  <- de_genes_list\n",
    "\n",
    "# Create a vector of the gene unuiverse\n",
    "gene_list <- de_genes_list$logFC\n",
    "\n",
    "# Name vector with ENTREZ ids\n",
    "names(gene_list) <- de_genes_list$entrezgene_id \n",
    "\n",
    "# omit any NA values \n",
    "gene_list <- na.omit(gene_list)\n",
    "\n",
    "# sort the list in decreasing order (required for clusterProfiler)\n",
    "gene_list = sort(gene_list, decreasing = TRUE)\n",
    "\n",
    "go <- enrichKEGG(gene         = names(gene_list),\n",
    "                organism     = 'hsa',\n",
    "                pvalueCutoff = 0.05,\n",
    "                # nPerm        = 10000,\n",
    "                minGSSize    = 10,\n",
    "                maxGSSize    = 2000,\n",
    "                pAdjustMethod = \"BH\")\n",
    "\n",
    "go <- as.data.frame(setReadable(go, 'org.Hs.eg.db',keyType=\"ENTREZID\"))\n",
    "li_gr = c()\n",
    "li_br = c()\n",
    "for (x in go$GeneRatio) {\n",
    "  li_gr <- append(li_gr, (eval(parse(text=x))) )\n",
    "}\n",
    "\n",
    "for (x in go$BgRatio) {\n",
    "  li_br <- append(li_br, (eval(parse(text=x))) )\n",
    "}\n",
    "tmp <- data.frame(go)\n",
    "\n",
    "tmp$FE <- li_gr/li_br ## Fold enrichment\n",
    "tmp$log10adjpval <- -log10(tmp$p.adjust)\n",
    "tmp$rankFDR <- c(seq(1, nrow(tmp)))\n",
    "tmp <- tmp[order( -tmp$FE),]\n",
    "tmp$rankFE <- seq(1, nrow(tmp))\n",
    "tmp$rank <- (tmp$rankFDR + tmp$rankFE)/2\n",
    "\n",
    "tab <- tmp[order(tmp['log10adjpval']),]\n",
    "\n",
    "tab <- tab[c('ID','Description','FE','log10adjpval','Count', 'geneID', 'pvalue', 'p.adjust')]\n",
    "tab$nGenes <- tab$Count\n",
    "tab['-Log10FDR'] <- tab$log10adjpval\n",
    "tab <- tab[order(tab$FE),]\n",
    "tab$Pathway <- factor(tab$Description, levels = tab$Description)\n",
    "dim(tab)\n",
    "tab\n"
   ]
  },
  {
   "cell_type": "code",
   "execution_count": 6,
   "id": "7026597b-ca39-4240-a865-972356fcefc8",
   "metadata": {},
   "outputs": [
    {
     "name": "stderr",
     "output_type": "stream",
     "text": [
      "Warning message:\n",
      "“\u001b[1m\u001b[22mUsing `size` aesthetic for lines was deprecated in ggplot2 3.4.0.\n",
      "\u001b[36mℹ\u001b[39m Please use `linewidth` instead.”\n",
      "Warning message:\n",
      "“\u001b[1m\u001b[22mThe `size` argument of `element_rect()` is deprecated as of ggplot2 3.4.0.\n",
      "\u001b[36mℹ\u001b[39m Please use the `linewidth` argument instead.”\n"
     ]
    },
    {
     "data": {
      "text/html": [
       "<strong>png:</strong> 2"
      ],
      "text/latex": [
       "\\textbf{png:} 2"
      ],
      "text/markdown": [
       "**png:** 2"
      ],
      "text/plain": [
       "png \n",
       "  2 "
      ]
     },
     "metadata": {},
     "output_type": "display_data"
    }
   ],
   "source": [
    "library(ggplot2)\n",
    "pdf(\"Supplementary/Fig_S2_Kegg.pdf\", width = 7, height = 4)\n",
    "size = 12\n",
    "\n",
    "# Horizontal version\n",
    "p <- ggplot(data = tab, aes(x = Pathway, y = FE ) ) + \n",
    "# scale_color_gradient(low = \"#a6b4a6\", high = \"#404e40\") +\n",
    " scale_color_gradient(low = \"#ffa0b1\", #\"#ff617d\", \n",
    "                      high = \"#b24357\") +\n",
    "  geom_segment(  aes(x=Pathway, xend=Pathway, y=0, yend=FE, color = `-Log10FDR`, size = 1), show.legend = F ) +\n",
    "  geom_point(data = tab, aes(color = `-Log10FDR`, size = nGenes)) + \n",
    "  theme_light() +\n",
    "  coord_flip() +\n",
    "  xlab(\"PATHWAYS\") + \n",
    "  ylab(\"Fold Enrichment\") + \n",
    "  ggtitle(\"KEGG ANALYSIS\")+\n",
    "  theme(\n",
    "    panel.grid.major.y = element_blank(),\n",
    "    axis.ticks.y = element_blank(),\n",
    "    axis.text.x = element_text(size=15, angle=0),\n",
    "    axis.text.y = element_text(size=15, angle=0),\n",
    "    plot.title = element_text(size=12, face='bold', hjust = 0.5),\n",
    "    panel.background = element_blank(),\n",
    "    panel.grid.major = element_blank(),\n",
    "    panel.grid.minor = element_blank(),\n",
    "    panel.border = element_rect(colour = \"grey\", fill=NA, size=1),\n",
    "    axis.title.y = element_text(size = size),\n",
    "    axis.title.x = element_text(size = size), \n",
    "      legend.title = element_text(size=12),\n",
    "      legend.text = element_text(size=12)\n",
    "  )\n",
    "p\n",
    "dev.off()\n",
    "  "
   ]
  },
  {
   "cell_type": "code",
   "execution_count": null,
   "id": "62c0bdea-e278-4698-8bb9-401820659c4f",
   "metadata": {},
   "outputs": [],
   "source": []
  }
 ],
 "metadata": {
  "kernelspec": {
   "display_name": "R-KEGG",
   "language": "R",
   "name": "ir-kegg"
  },
  "language_info": {
   "codemirror_mode": "r",
   "file_extension": ".r",
   "mimetype": "text/x-r-source",
   "name": "R",
   "pygments_lexer": "r",
   "version": "4.2.3"
  }
 },
 "nbformat": 4,
 "nbformat_minor": 5
}
